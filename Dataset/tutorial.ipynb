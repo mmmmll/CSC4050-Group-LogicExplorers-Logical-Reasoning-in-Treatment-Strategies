{
 "cells": [
  {
   "cell_type": "markdown",
   "source": [
    "## Real data"
   ],
   "metadata": {
    "collapsed": false
   },
   "id": "c3b5497f4ea75cb7"
  },
  {
   "cell_type": "code",
   "execution_count": 1,
   "outputs": [],
   "source": [
    "from real_data.dataset import transform_dataset\n",
    "\n",
    "# Read datasets\n",
    "name = 'adult' #available dataset: 1)adult 2)heloc 3)house 4)magic\n",
    "X, Y, X_headers, Y_headers = transform_dataset(name, method='onehot-compare', negations=False, labels='binary')"
   ],
   "metadata": {
    "collapsed": false,
    "ExecuteTime": {
     "end_time": "2024-04-14T09:19:16.235373200Z",
     "start_time": "2024-04-14T09:19:15.104452300Z"
    }
   },
   "id": "5d524c546b1244ae"
  },
  {
   "cell_type": "markdown",
   "source": [
    "## Synthetic Data"
   ],
   "metadata": {
    "collapsed": false
   },
   "id": "5f6e5554f0fb12c5"
  },
  {
   "cell_type": "code",
   "execution_count": 2,
   "outputs": [
    {
     "name": "stderr",
     "output_type": "stream",
     "text": [
      "100%|██████████| 1000/1000 [00:00<00:00, 4238.29it/s]\n"
     ]
    }
   ],
   "source": [
    "from synthetic_data.binary_syn_data_gen import generate_data\n",
    "\n",
    "RNG_SEED = 73      # random seed\n",
    "NUM_NULLARY = 10   # feature num\n",
    "NUM_CONJUNCTS = 5  # max rule num (the ground rules' num will less than or equal to this value; and greater than 0)\n",
    "GEN_SIZE = 10000   # will generate this number of positive samples, and will generate approximately this number of negative samples\n",
    "\n",
    "data = generate_data(NUM_NULLARY, NUM_CONJUNCTS, GEN_SIZE, RNG_SEED)\n",
    "\n",
    "X = data['nullary']\n",
    "Y = data['target']\n",
    "ground_rules = data[\"rule_str\"]"
   ],
   "metadata": {
    "collapsed": false,
    "ExecuteTime": {
     "end_time": "2024-04-14T09:19:18.115148800Z",
     "start_time": "2024-04-14T09:19:17.837156600Z"
    }
   },
   "id": "8ca077b5a3f7e0db"
  }
 ],
 "metadata": {
  "kernelspec": {
   "display_name": "Python 3",
   "language": "python",
   "name": "python3"
  },
  "language_info": {
   "codemirror_mode": {
    "name": "ipython",
    "version": 2
   },
   "file_extension": ".py",
   "mimetype": "text/x-python",
   "name": "python",
   "nbconvert_exporter": "python",
   "pygments_lexer": "ipython2",
   "version": "2.7.6"
  }
 },
 "nbformat": 4,
 "nbformat_minor": 5
}
