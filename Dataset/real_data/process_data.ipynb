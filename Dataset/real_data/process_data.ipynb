{
 "cells": [
  {
   "cell_type": "code",
   "execution_count": 1,
   "id": "initial_id",
   "metadata": {
    "collapsed": true,
    "ExecuteTime": {
     "end_time": "2024-03-31T06:17:44.400192600Z",
     "start_time": "2024-03-31T06:17:41.119299600Z"
    }
   },
   "outputs": [],
   "source": [
    "from datasets.dataset import transform_dataset, kfold_dataset"
   ]
  },
  {
   "cell_type": "code",
   "execution_count": 4,
   "outputs": [],
   "source": [
    "# Read datasets\n",
    "name = 'heloc' #available dataset: 1)adult 2)heloc 3)house 4)magic\n",
    "X, Y, X_headers, Y_headers = transform_dataset(name, method='onehot-compare', negations=False, labels='binary')\n",
    "datasets = kfold_dataset(X, Y, shuffle=1)\n",
    "X_train, X_test, Y_train, Y_test = datasets[0]"
   ],
   "metadata": {
    "collapsed": false,
    "ExecuteTime": {
     "end_time": "2024-03-31T06:19:07.289526100Z",
     "start_time": "2024-03-31T06:19:07.160520400Z"
    }
   },
   "id": "350c1a2ab4d7a7f7"
  },
  {
   "cell_type": "code",
   "execution_count": null,
   "outputs": [],
   "source": [],
   "metadata": {
    "collapsed": false
   },
   "id": "d803cecab19160fc"
  }
 ],
 "metadata": {
  "kernelspec": {
   "display_name": "Python 3",
   "language": "python",
   "name": "python3"
  },
  "language_info": {
   "codemirror_mode": {
    "name": "ipython",
    "version": 2
   },
   "file_extension": ".py",
   "mimetype": "text/x-python",
   "name": "python",
   "nbconvert_exporter": "python",
   "pygments_lexer": "ipython2",
   "version": "2.7.6"
  }
 },
 "nbformat": 4,
 "nbformat_minor": 5
}
